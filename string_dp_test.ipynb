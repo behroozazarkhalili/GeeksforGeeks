{
 "cells": [
  {
   "cell_type": "code",
   "execution_count": 74,
   "metadata": {},
   "outputs": [],
   "source": [
    "from typing import List, Union\n",
    "import collections"
   ]
  },
  {
   "cell_type": "code",
   "execution_count": 75,
   "metadata": {},
   "outputs": [
    {
     "data": {
      "text/plain": [
       "'geeks for code'"
      ]
     },
     "execution_count": 75,
     "metadata": {},
     "output_type": "execute_result"
    }
   ],
   "source": [
    "# https://www.geeksforgeeks.org/reverse-words-in-a-given-string/\n",
    "\n",
    "def reverse_words(s):\n",
    "    return ' '.join(reversed(s.split()))\n",
    "\n",
    "\n",
    "reverse_words(\"code for geeks\")"
   ]
  },
  {
   "cell_type": "code",
   "execution_count": 76,
   "metadata": {},
   "outputs": [],
   "source": [
    "# https://www.geeksforgeeks.org/minimum-number-of-times-a-has-to-be-repeated-such-that-b-is-a-substring-of-it/\n",
    "\n",
    "# TODO: fix this code as it does not work properly"
   ]
  },
  {
   "cell_type": "code",
   "execution_count": 77,
   "metadata": {},
   "outputs": [
    {
     "name": "stdout",
     "output_type": "stream",
     "text": [
      "gee\n",
      "gee\n"
     ]
    }
   ],
   "source": [
    "# https://www.geeksforgeeks.org/longest-common-prefix-using-sorting/\n",
    "\n",
    "def longest_common_prefix_v0(x: List[str]):\n",
    "    boolean_index = True\n",
    "    counter = 0\n",
    "    common_prefix = \"\"\n",
    "\n",
    "    while boolean_index:\n",
    "        if all([x[i][counter] == x[i+1][counter] for i in range(len(x)-1)]):\n",
    "            common_prefix += x[0][counter]\n",
    "            counter += 1\n",
    "        else:\n",
    "            boolean_index = False\n",
    "\n",
    "    return common_prefix\n",
    "\n",
    "\n",
    "def longest_common_prefix_v1(x: List[str]):\n",
    "    boolean_index = True\n",
    "    counter = 0\n",
    "    common_prefix = \"\"\n",
    "\n",
    "    while boolean_index:\n",
    "        if len(set([x_member[counter] for x_member in x])) == 1:\n",
    "            common_prefix += x[0][counter]\n",
    "            counter += 1\n",
    "        else:\n",
    "            boolean_index = False\n",
    "\n",
    "    return common_prefix\n",
    "\n",
    "\n",
    "print(longest_common_prefix_v0([\"geeksforgeeks\", \"geeks\", \"geek\", \"geezer\"]))\n",
    "print(longest_common_prefix_v1([\"geeksforgeeks\", \"geeks\", \"geek\", \"geezer\"]))"
   ]
  },
  {
   "cell_type": "code",
   "execution_count": 78,
   "metadata": {},
   "outputs": [
    {
     "name": "stdout",
     "output_type": "stream",
     "text": [
      "2\n",
      "2\n"
     ]
    }
   ],
   "source": [
    "# https://www.geeksforgeeks.org/find-the-minimum-distance-between-the-given-two-words/\n",
    "\n",
    "def min_distance(x: List[str], word1: str, word2: str):\n",
    "    word1_index = [i for i, x_member in enumerate(x) if x_member == word1]\n",
    "    word2_index = [i for i, x_member in enumerate(x) if x_member == word2]\n",
    "\n",
    "    return min([abs(x - y) for x in word1_index for y in word2_index])\n",
    "\n",
    "print(min_distance([\"geeks\", \"for\", \"geeks\", \"contribute\", \"practice\"], \"geeks\", \"practice\"))\n",
    "print(min_distance([\"the\", \"quick\", \"red\", \"fox\", \"jumps\", \"over\", \"the\", \"slow\", \"red\", \"turtle\"], \"the\", \"red\"))\n"
   ]
  },
  {
   "cell_type": "code",
   "execution_count": 79,
   "metadata": {},
   "outputs": [
    {
     "name": "stdout",
     "output_type": "stream",
     "text": [
      "('gg', 2)\n",
      "['gg', 'ee', 'k', 's', 'f', 'o', 'r', 'g', 'ee', 'k', 's']\n",
      "(['g1', 'e2', 'k1', 's1', 'f1', 'o1', 'r1', 'g1', 'e2', 'k1', 's1'], '1s1k2e1g1r1o1f1s1k2e1g')\n",
      "(['a14', 'b2', 'c3', 'b2', 'a3'], '3a2b3c2b41a')\n"
     ]
    }
   ],
   "source": [
    "# https://www.geeksforgeeks.org/encrypt-the-string-2/\n",
    "\n",
    "def get_prefix_with_same_chars(x:str) -> List[str]:\n",
    "    init_list = [(x[:i], i) for i in range(1, len(x)+1) if len(set(x[:i])) == 1]\n",
    "\n",
    "    return max(init_list, key=lambda x: x[1])\n",
    "\n",
    "print(get_prefix_with_same_chars(\"ggeeksforgeeks\"))\n",
    "\n",
    "def get_substring_with_same_chars(x:str) -> List[str]:\n",
    "    init_list= []\n",
    "\n",
    "    while len(x) > 0:\n",
    "        new_substring, new_index = get_prefix_with_same_chars(x)\n",
    "        init_list.append(new_substring)\n",
    "        x = x[new_index:]\n",
    "\n",
    "    return init_list\n",
    "\n",
    "print(get_substring_with_same_chars(\"ggeeksforgeeks\"))\n",
    "\n",
    "def get_encrypted_string(x: str):\n",
    "\n",
    "    init_list = [(item[0]+str(hex(len(item))[2:])) for item in get_substring_with_same_chars(x)]\n",
    "    encrypted_str = ''.join(init_list)[::-1]\n",
    "    return init_list, encrypted_str\n",
    "\n",
    "\n",
    "print(get_encrypted_string(\"geeksforgeeks\"))\n",
    "print(get_encrypted_string(\"aaaaaaaaaaaaaaaaaaaabbcccbbaaa\"))\n"
   ]
  },
  {
   "cell_type": "code",
   "execution_count": 80,
   "metadata": {},
   "outputs": [
    {
     "name": "stdout",
     "output_type": "stream",
     "text": [
      "4\n",
      "-1\n"
     ]
    }
   ],
   "source": [
    "# https://www.geeksforgeeks.org/find-equal-point-string-brackets/\n",
    "\n",
    "def get_equal_point(x:str) -> int:\n",
    "    assert set(x).issubset({'(', ')'}), \"Invalid input\"\n",
    "\n",
    "    boolean_index = True\n",
    "    counter = 0\n",
    "\n",
    "    while boolean_index:\n",
    "        x_riht, x_left = x[counter:], x[:counter]\n",
    "        if x_riht.count(')') == x_left.count('('):\n",
    "            boolean_index = False\n",
    "        else:\n",
    "            counter += 1\n",
    "\n",
    "    return counter if counter > 0 else -1\n",
    "\n",
    "print(get_equal_point(\"(())))(\"))\n",
    "print(get_equal_point(\"((\"))"
   ]
  },
  {
   "cell_type": "code",
   "execution_count": 81,
   "metadata": {},
   "outputs": [
    {
     "name": "stdout",
     "output_type": "stream",
     "text": [
      "True\n",
      "False\n"
     ]
    }
   ],
   "source": [
    "# https://www.geeksforgeeks.org/check-two-strings-k-anagrams-not/\n",
    "\n",
    "def is_k_anagrams(x: str, y: str, k:int) -> bool:\n",
    "    cond_1 = len(x) == len(y)\n",
    "    cond_2 = len(set(x).symmetric_difference(y)) <= k\n",
    "    return cond_1 and cond_2\n",
    "\n",
    "print(is_k_anagrams(\"anagram\", \"grammar\", 2))\n",
    "print(is_k_anagrams(\"geeks\", \"eggkf\", 1))"
   ]
  },
  {
   "cell_type": "code",
   "execution_count": 82,
   "metadata": {},
   "outputs": [
    {
     "name": "stdout",
     "output_type": "stream",
     "text": [
      "[[], [3], [2], [1], [2, 3], [1, 3], [1, 2], [1, 2, 3]]\n",
      "[[], ['s'], ['k'], ['e'], ['e'], ['g'], ['k', 's'], ['e', 's'], ['e', 'k'], ['e', 's'], ['e', 'k'], ['e', 'e'], ['g', 's'], ['g', 'k'], ['g', 'e'], ['g', 'e'], ['e', 'k', 's'], ['e', 'k', 's'], ['e', 'e', 's'], ['e', 'e', 'k'], ['g', 'k', 's'], ['g', 'e', 's'], ['g', 'e', 'k'], ['g', 'e', 's'], ['g', 'e', 'k'], ['g', 'e', 'e'], ['e', 'e', 'k', 's'], ['g', 'e', 'k', 's'], ['g', 'e', 'k', 's'], ['g', 'e', 'e', 's'], ['g', 'e', 'e', 'k'], ['g', 'e', 'e', 'k', 's']]\n",
      "[[], [1], [2], [3], [1, 2], [1, 3], [2, 3], [1, 2, 3]]\n",
      "[[], ['g'], ['e'], ['e'], ['k'], ['s'], ['g', 'e'], ['g', 'e'], ['e', 'e'], ['g', 'k'], ['e', 'k'], ['e', 'k'], ['g', 's'], ['e', 's'], ['e', 's'], ['k', 's'], ['g', 'e', 'e'], ['g', 'e', 'k'], ['g', 'e', 'k'], ['e', 'e', 'k'], ['g', 'e', 's'], ['g', 'e', 's'], ['e', 'e', 's'], ['g', 'k', 's'], ['e', 'k', 's'], ['e', 'k', 's'], ['g', 'e', 'e', 'k'], ['g', 'e', 'e', 's'], ['g', 'e', 'k', 's'], ['g', 'e', 'k', 's'], ['e', 'e', 'k', 's'], ['g', 'e', 'e', 'k', 's']]\n"
     ]
    }
   ],
   "source": [
    "# https://www.geeksforgeeks.org/count-distinct-subsequences/\n",
    "\n",
    "def get_subsequences_v0(seq: Union[list, str]) -> list:\n",
    "    if len(seq) == 0:\n",
    "        return [[]]\n",
    "    else:\n",
    "        subsequences = get_subsequences_v0(seq[1:])\n",
    "        return sorted(subsequences + [[seq[0]] + subseq for subseq in subsequences], key=len)\n",
    "\n",
    "print(get_subsequences_v0([1,2,3]))\n",
    "print(get_subsequences_v0(\"geeks\"))\n",
    "\n",
    "def get_subsequences_v1(seq: Union[list, str]) -> list:\n",
    "    def generate_subsequences(i):\n",
    "        if i == len(seq):\n",
    "            yield []\n",
    "        else:\n",
    "            for subseq in generate_subsequences(i+1):\n",
    "                yield subseq\n",
    "                yield [seq[i]] + subseq\n",
    "    \n",
    "    return sorted(list(generate_subsequences(0)), key=len)\n",
    "\n",
    "\n",
    "print(get_subsequences_v1([1,2,3]))\n",
    "print(get_subsequences_v1(\"geeks\"))\n"
   ]
  },
  {
   "cell_type": "code",
   "execution_count": 83,
   "metadata": {},
   "outputs": [
    {
     "name": "stdout",
     "output_type": "stream",
     "text": [
      "([1, 2, 4, 7], {'g': 3, 'f': 2})\n",
      "([1, 2, 4, 7], {'g': 3, 'f': 2})\n"
     ]
    }
   ],
   "source": [
    "def get_distinct_subsequences_v0(seq: str) -> int:\n",
    "    n = len(seq)\n",
    "    dp = [0] * (n + 1)\n",
    "    dp[0] = 1\n",
    "\n",
    "    last_seen = {}\n",
    "\n",
    "    for i in range(1, n + 1):\n",
    "        dp[i] = 2 * dp[i - 1]\n",
    "\n",
    "        if seq[i - 1] in last_seen:\n",
    "            dp[i] -= dp[last_seen[seq[i - 1]] - 1]\n",
    "        last_seen[seq[i - 1]] = i\n",
    "\n",
    "    return dp, last_seen\n",
    "\n",
    "\n",
    "def get_distinct_subsequences_v1(seq: str) -> int:\n",
    "    n = len(seq)\n",
    "    dp = [0] * (n + 1)\n",
    "    dp[0] = 1\n",
    "\n",
    "    last_seen = {}\n",
    "\n",
    "    for i in range(1, n + 1):\n",
    "        dp[i] = 2 * dp[i - 1]\n",
    "\n",
    "        last_index = last_seen.get(seq[i - 1], None)\n",
    "        if last_index is not None:\n",
    "            dp[i] -= dp[last_index - 1]\n",
    "\n",
    "        last_seen[seq[i - 1]] = i\n",
    "\n",
    "    return dp, last_seen\n",
    "\n",
    "print(get_distinct_subsequences_v0(\"gfg\"))\n",
    "print(get_distinct_subsequences_v1(\"gfg\"))"
   ]
  },
  {
   "cell_type": "code",
   "execution_count": 84,
   "metadata": {},
   "outputs": [
    {
     "name": "stdout",
     "output_type": "stream",
     "text": [
      "True\n",
      "True\n"
     ]
    }
   ],
   "source": [
    "# https://www.geeksforgeeks.org/check-string-can-obtained-rotating-another-string-2-places/\n",
    "\n",
    "def get_rotated_string(x1:str, x2:str, k:int) -> bool:\n",
    "    x1_c_rotated = x1[k:] + x1[:k]\n",
    "    x1_cc_rotated = x1[len(x1)-k:] + x1[:len(x1)-k]\n",
    "\n",
    "    return x1_c_rotated == x2 or x1_cc_rotated == x2\n",
    "\n",
    "print(get_rotated_string(\"amazon\", \"azonam\", 2))\n",
    "print(get_rotated_string(\"amazon\", \"onamaz\", 2))\n",
    "\n"
   ]
  },
  {
   "cell_type": "code",
   "execution_count": 85,
   "metadata": {},
   "outputs": [],
   "source": [
    "# https://www.geeksforgeeks.org/find-largest-word-dictionary-deleting-characters-given-string/\n",
    "\n",
    "def is_subsequence_word(x1: str, x2: str) -> bool:\n",
    "    i = 0\n",
    "    j = 0\n",
    "\n",
    "    while i < len(x1) and j < len(x2):\n",
    "        if x1[i] == x2[j]:\n",
    "            j += 1\n",
    "        i += 1\n",
    "    return j == len(x2)\n",
    "\n",
    "\n",
    "def get_longest_subsequence_word(x: List[str], word: str) -> str:\n",
    "    longest_subsequence = \"\"\n",
    "\n",
    "    for i in range(len(x)):\n",
    "        if is_subsequence_word(x[i], word):\n",
    "            if len(x[i]) > len(longest_subsequence):\n",
    "                longest_subsequence = x[i]\n",
    "\n",
    "    return longest_subsequence"
   ]
  },
  {
   "cell_type": "code",
   "execution_count": 86,
   "metadata": {},
   "outputs": [
    {
     "data": {
      "text/plain": [
       "(4, ['012012', '120', '201', '012'])"
      ]
     },
     "execution_count": 86,
     "metadata": {},
     "output_type": "execute_result"
    }
   ],
   "source": [
    "# https://www.geeksforgeeks.org/substring-equal-number-0-1-2/\n",
    "\n",
    "def get_counter(x: str) -> int:\n",
    "    return collections.Counter(x).values()\n",
    "\n",
    "def count_equal_substrings(x: str) -> int:\n",
    "    x_substrings = list(set([x[i:j] for i in range(len(x)) for j in range(i + 1, len(x) + 1)]))\n",
    "\n",
    "    filtered_substring = [x_substring for x_substring in x_substrings if len(set(get_counter(x_substring))) == 1 and len(get_counter(x_substring)) == len(set(x))]\n",
    "    return len(filtered_substring), filtered_substring\n",
    "\n",
    "\n",
    "count_equal_substrings(\"012012\")"
   ]
  },
  {
   "cell_type": "code",
   "execution_count": 87,
   "metadata": {},
   "outputs": [
    {
     "name": "stdout",
     "output_type": "stream",
     "text": [
      "Number of common subsequences: 7\n",
      "Number of common subsequences: 11\n"
     ]
    }
   ],
   "source": [
    "def count_common_subsequences(s1, s2):\n",
    "    # Lengths of input strings\n",
    "    len_s1 = len(s1)\n",
    "    len_s2 = len(s2)\n",
    "\n",
    "    # Initialize a 2D DP table with zeros\n",
    "    dp = [[0] * (len_s2 + 1) for _ in range(len_s1 + 1)]\n",
    "\n",
    "    # Populate the DP table\n",
    "    for i in range(1, len_s1 + 1):\n",
    "        for j in range(1, len_s2 + 1):\n",
    "            # If characters match, we have two choices:\n",
    "            # 1. Include the characters in the common subsequence\n",
    "            # 2. Exclude either character, and count common subsequences from previous state\n",
    "            if s1[i - 1] == s2[j - 1]:\n",
    "                dp[i][j] = dp[i - 1][j - 1] + dp[i - 1][j] + 1\n",
    "            else:\n",
    "                dp[i][j] = dp[i - 1][j] + dp[i][j - 1] - dp[i - 1][j - 1]\n",
    "\n",
    "    # The bottom-right cell contains the count of common subsequences\n",
    "    return dp[len_s1][len_s2]\n",
    "\n",
    "# Example usage:\n",
    "\n",
    "print(\"Number of common subsequences:\", count_common_subsequences(\"acde\", \"acdf\"))\n",
    "print(\"Number of common subsequences:\", count_common_subsequences(\"abcde\", \"bacef\"))"
   ]
  },
  {
   "cell_type": "code",
   "execution_count": 88,
   "metadata": {},
   "outputs": [
    {
     "name": "stdout",
     "output_type": "stream",
     "text": [
      "{'', 'ad', 'cd', 'ac', 'd', 'c', 'acd', 'a'}\n",
      "{'', 'ace', 'bce', 'ae', 'bc', 'b', 'ac', 'ce', 'c', 'e', 'a', 'be'}\n"
     ]
    }
   ],
   "source": [
    "a = list(set(\"\".join(item) for item in (get_subsequences_v0(\"acde\"))))\n",
    "b = list(set(\"\".join(item) for item in (get_subsequences_v0(\"acdf\"))))\n",
    "\n",
    "c = list(set(\"\".join(item) for item in (get_subsequences_v1(\"abcde\"))))\n",
    "d = list(set(\"\".join(item) for item in (get_subsequences_v1(\"bacef\"))))\n",
    "\n",
    "print(set(a).intersection(set(b)))\n",
    "print(set(c).intersection(set(d)))"
   ]
  },
  {
   "cell_type": "code",
   "execution_count": 89,
   "metadata": {},
   "outputs": [
    {
     "name": "stdout",
     "output_type": "stream",
     "text": [
      "abcdab\n",
      "Longest Common Subsequence (LCS): GTAB\n"
     ]
    }
   ],
   "source": [
    "def get_lcs_v0(x1: str, x2: str) -> str:\n",
    "    n1 = len(x1)\n",
    "    n2 = len(x2)\n",
    "    dp = [[\"\" for _ in range(n2 + 1)] for _ in range(n1 + 1)]\n",
    "\n",
    "    for i in range(1, n1 + 1):\n",
    "        for j in range(1, n2 + 1):\n",
    "            if x1[i - 1] == x2[j - 1]:\n",
    "                dp[i][j] = dp[i - 1][j - 1] + x1[i - 1]\n",
    "            else:\n",
    "                dp[i][j] = max(dp[i - 1][j], dp[i][j - 1], key=len)\n",
    "\n",
    "    return dp[n1][n2]\n",
    "\n",
    "print(get_lcs_v0(\"abcdabf\", \"abcedab\"))\n",
    "\n",
    "\n",
    "def get_lcs_v1(x1: str, x2: str, i:int, j:int) -> str:\n",
    "    # Base case: If either of the strings is empty, return an empty string.\n",
    "    if i == 0 or j == 0:\n",
    "        return \"\"\n",
    "    \n",
    "    # If the last characters of both strings match, it's part of the LCS.\n",
    "    if s1[i - 1] == s2[j - 1]:\n",
    "        return get_lcs_v1(s1, s2, i - 1, j - 1) + s1[i - 1]\n",
    "    \n",
    "    # If the last characters don't match, consider two cases:\n",
    "    # 1. Exclude the last character of s1 and find LCS.\n",
    "    # 2. Exclude the last character of s2 and find LCS.\n",
    "    lcs1 = get_lcs_v1(s1, s2, i - 1, j)\n",
    "    lcs2 = get_lcs_v1(s1, s2, i, j - 1)\n",
    "    \n",
    "    # Return the longer LCS of the two cases.\n",
    "    return max(lcs1, lcs2, key=len)\n",
    "\n",
    "# Example usage:\n",
    "s1 = \"AGGTAB\"\n",
    "s2 = \"GXTXAYB\"\n",
    "print(\"Longest Common Subsequence (LCS):\", get_lcs_v1(s1, s2, len(s1), len(s2)))"
   ]
  },
  {
   "cell_type": "code",
   "execution_count": 90,
   "metadata": {},
   "outputs": [
    {
     "name": "stdout",
     "output_type": "stream",
     "text": [
      "69\n"
     ]
    }
   ],
   "source": [
    "# https://www.geeksforgeeks.org/next-higher-palindromic-number-using-set-digits/\n",
    "\n",
    "def get_next_higher_palindromic(x: str) -> str:\n",
    "\n",
    "    half_x = x[1:(len(x))//2][::-1]\n",
    "    for i in range(len(half_x)):\n",
    "        if half_x[i] < half_x[i-1]:\n",
    "            init_index = len(half_x)-i\n",
    "            break\n",
    "\n",
    "    return x[1:init_index-1]\n",
    "print(get_next_higher_palindromic(\"46975157964\"))"
   ]
  },
  {
   "cell_type": "code",
   "execution_count": 91,
   "metadata": {},
   "outputs": [
    {
     "name": "stdout",
     "output_type": "stream",
     "text": [
      "t stri\n",
      "t stri\n",
      "t stri\n"
     ]
    }
   ],
   "source": [
    "# https://www.geeksforgeeks.org/find-the-smallest-window-in-a-string-containing-all-characters-of-another-string/\n",
    "\n",
    "def is_subtring_in_string(x_string:str, x_pattern:str) -> bool:\n",
    "    x_freq = collections.Counter(x_string)\n",
    "    pattern_freq = collections.Counter(x_pattern)\n",
    "\n",
    "    return all(x_freq[char] >= pattern_freq[char] for char in x_pattern)\n",
    "\n",
    "\n",
    "def get_smallest_window_v0(x_string:str, x_pattern:str):\n",
    "    initial_list = []\n",
    "    for i in range(len(x_string)):\n",
    "        for j in range(len(x_pattern), len(x_string)):\n",
    "            if is_subtring_in_string(x_string[i:j], x_pattern):\n",
    "                initial_list.append(x_string[i:j])\n",
    "\n",
    "    return min(initial_list, key=len) if initial_list else initial_list\n",
    "            \n",
    "print(get_smallest_window_v0(\"this is a test string\", \"tist\"))\n",
    "\n",
    "\n",
    "def get_smallest_window_v1(x_string: str, x_pattern: str) -> str:\n",
    "    # Create a hashmap to store the frequency of characters in the pattern.\n",
    "    pattern_freq = collections.Counter(x_pattern)\n",
    "\n",
    "    # Initialize variables to keep track of the window and the frequency of characters in the window.\n",
    "    w_start = 0\n",
    "    w_end = 0\n",
    "    w_freq = collections.Counter()\n",
    "\n",
    "    # Initialize variables to keep track of the smallest window and its length.\n",
    "    smallest_w = \"\"\n",
    "    smallest_w_len = float(\"inf\")\n",
    "    \n",
    "    # Iterate over the characters in the string until the end is reached.\n",
    "    while w_end < len(x_string):\n",
    "        # Expand the window by adding the next character to the window.\n",
    "        w_freq[x_string[w_end]] += 1\n",
    "        w_end += 1\n",
    "        \n",
    "        # If the window contains all characters of the pattern, contract the window from the left to find the smallest window.\n",
    "        while all(w_freq[char] >= pattern_freq[char] for char in x_pattern):\n",
    "            # Update the smallest window if the current window is smaller.\n",
    "            if w_end - w_start < smallest_w_len:\n",
    "                smallest_w = x_string[w_start:w_end]\n",
    "                smallest_w_len = w_end - w_start\n",
    "            \n",
    "            # Contract the window from the left by removing the leftmost character.\n",
    "            w_freq[x_string[w_start]] -= 1\n",
    "            w_start += 1\n",
    "    \n",
    "    return smallest_w\n",
    "\n",
    "print(get_smallest_window_v1(\"this is a test string\", \"tist\"))\n",
    "\n",
    "\n",
    "def get_smallest_window_v2(string: str, pattern: str) -> str:\n",
    "    # Create a hashmap to store the frequency of characters in the pattern.\n",
    "    pattern_freq = collections.Counter(pattern)\n",
    "\n",
    "    # Initialize variables to keep track of the smallest window and its length.\n",
    "    smallest_w = \"\"\n",
    "    smallest_w_len = float(\"inf\")\n",
    "    \n",
    "    # Use binary search to find the length of the smallest substring containing all characters of the pattern.\n",
    "    left = len(pattern)\n",
    "    right = len(string)\n",
    "\n",
    "    while left <= right:\n",
    "        mid = (left + right) // 2\n",
    "        pattern_found = False\n",
    "\n",
    "        for i in range(len(string) - mid + 1):\n",
    "            window = string[i:i+mid]\n",
    "            window_freq = collections.Counter(window)\n",
    "\n",
    "            if all(window_freq[char] >= pattern_freq[char] for char in pattern):\n",
    "                pattern_found = True\n",
    "                break\n",
    "\n",
    "        if pattern_found:\n",
    "            if mid < smallest_w_len:\n",
    "                smallest_w = window\n",
    "                smallest_w_len = mid\n",
    "            right = mid - 1\n",
    "\n",
    "        else:\n",
    "            left = mid + 1\n",
    "    \n",
    "    return smallest_w\n",
    "\n",
    "print(get_smallest_window_v2(\"this is a test string\", \"tist\"))"
   ]
  },
  {
   "cell_type": "code",
   "execution_count": 95,
   "metadata": {},
   "outputs": [
    {
     "name": "stdout",
     "output_type": "stream",
     "text": [
      "5\n",
      "5\n",
      "7\n",
      "abdba\n",
      "EEKEE\n",
      "BABCBAB\n"
     ]
    }
   ],
   "source": [
    "def get_longest_palindrome_subsequnce_v0(x:str):\n",
    "\n",
    "    assert len(x) > 0, \"Invalid input\"\n",
    "\n",
    "    dp = [[0 for _ in range(len(x))] for _ in range(len(x))]\n",
    "    for i in range(len(x)):\n",
    "        dp[i][i] = 1\n",
    "\n",
    "    for i in range(len(x) - 1, -1, -1):\n",
    "        for j in range(i + 1, len(x)):\n",
    "            if x[i] == x[j]:\n",
    "                dp[i][j] = dp[i + 1][j - 1] + 2\n",
    "            else:\n",
    "                dp[i][j] = max(dp[i][j - 1], dp[i + 1][j], key=lambda x: x)\n",
    "\n",
    "    return dp[0][-1]\n",
    "\n",
    "print(get_longest_palindrome_subsequnce_v0(\"abdbca\"))\n",
    "print(get_longest_palindrome_subsequnce_v0(\"GEEKSFORGEEKS\"))\n",
    "print(get_longest_palindrome_subsequnce_v0(\"BBABCBCAB\"))\n",
    "\n",
    "\n",
    "def get_longest_palindrome_subsequnce_v1(x:str):\n",
    "    y = x[::-1]\n",
    "\n",
    "    return get_lcs_v0(x, y)\n",
    "\n",
    "print(get_longest_palindrome_subsequnce_v1(\"abdbca\"))\n",
    "print(get_longest_palindrome_subsequnce_v1(\"GEEKSFORGEEKS\"))\n",
    "print(get_longest_palindrome_subsequnce_v1(\"BBABCBCAB\"))"
   ]
  },
  {
   "cell_type": "code",
   "execution_count": 106,
   "metadata": {},
   "outputs": [
    {
     "name": "stdout",
     "output_type": "stream",
     "text": [
      "2\n",
      "4\n",
      "7\n",
      "ab\n",
      "cadbf\n",
      "abcdefg\n"
     ]
    }
   ],
   "source": [
    "# https://www.geeksforgeeks.org/length-of-the-longest-substring-without-repeating-characters/\n",
    "\n",
    "def get_longest_nonrepteaed_substring_v0(x:str):\n",
    "    x_set = set()\n",
    "    l = 0\n",
    "    res = 0\n",
    "    for r in range(len(x)):\n",
    "        while x[r] in x_set:\n",
    "            x_set.remove(x[l])\n",
    "            l += 1\n",
    "        x_set.add(x[r])\n",
    "        res = max(res, r - l + 1)\n",
    "\n",
    "    return res\n",
    "\n",
    "\n",
    "print(get_longest_nonrepteaed_substring_v0(\"aab\"))\n",
    "print(get_longest_nonrepteaed_substring_v0(\"aacadbb\"))\n",
    "print(get_longest_nonrepteaed_substring_v0(\"abcdefgaebc\"))\n",
    "\n",
    "\n",
    "def get_longest_nonrepteaed_substring_v1(x:str):\n",
    "    w_start = 0\n",
    "    w_end = 1\n",
    "    w = \"\"\n",
    "\n",
    "    while w_end < len(x):\n",
    "        while x[w_end] in x[w_start:w_end]:\n",
    "            w_start += 1\n",
    "        w_end += 1\n",
    "\n",
    "        w = x[w_start:w_end] if len(x[w_start:w_end]) > len(w) else w\n",
    "\n",
    "    return w\n",
    "\n",
    "print(get_longest_nonrepteaed_substring_v1(\"aab\"))\n",
    "print(get_longest_nonrepteaed_substring_v1(\"aacadbff\"))\n",
    "print(get_longest_nonrepteaed_substring_v1(\"abcdefgaebc\"))"
   ]
  },
  {
   "cell_type": "code",
   "execution_count": 147,
   "metadata": {},
   "outputs": [
    {
     "name": "stdout",
     "output_type": "stream",
     "text": [
      "(2, 'aa')\n",
      "(3, 'aab')\n",
      "(5, 'abcde')\n",
      "(2, 'aa')\n",
      "(3, 'aab')\n",
      "(4, 'aabc')\n",
      "(5, 'abcde')\n"
     ]
    }
   ],
   "source": [
    "# https://www.geeksforgeeks.org/longest-prefix-also-suffix/\n",
    "\n",
    "def get_longest_prefix_suffix_v0(x: str):\n",
    "    n = len(x)\n",
    "    lps = [0] * n\n",
    "\n",
    "    # Initialize variables to keep track of the length of the longest prefix that is also a suffix.\n",
    "\n",
    "    lps_length = 0\n",
    "    # Use a sliding window approach to find the length of the longest prefix that is also a suffix.\n",
    "\n",
    "    for i in range(1, n):\n",
    "        # If the characters at the current positions match, we can extend the prefix and suffix.\n",
    "        while lps_length > 0 and x[i] != x[lps_length]:\n",
    "            # If the characters do not match, we need to backtrack to the previous position in the prefix and suffix.\n",
    "            lps_length = lps[lps_length-1]\n",
    "\n",
    "        if x[i] == x[lps_length]:\n",
    "            lps_length += 1\n",
    "            lps[i] = lps_length\n",
    "\n",
    "    # Return the length of the longest prefix that is also a suffix.\n",
    "    return lps[n-1], x[:lps[n-1]]\n",
    "\n",
    "\n",
    "print(get_longest_prefix_suffix_v0(\"aabaa\"))\n",
    "print(get_longest_prefix_suffix_v0(\"aabcdaab\"))\n",
    "print(get_longest_prefix_suffix_v0(\"abcdeabcabcabcde\"))\n",
    "\n",
    "def get_longest_prefix_suffix_v1(x: str):\n",
    "    for i in range(int(len(x)/2), 0, -1):\n",
    "        if x[:i] == x[-i:]:\n",
    "            return i, x[:i]\n",
    "    return 0, \"\"\n",
    "\n",
    "print(get_longest_prefix_suffix_v1(\"aabaa\"))\n",
    "print(get_longest_prefix_suffix_v1(\"aabcdaab\"))\n",
    "print(get_longest_prefix_suffix_v1(\"aabcaabc\"))\n",
    "print(get_longest_prefix_suffix_v1(\"abcdeabcabcabcde\"))"
   ]
  },
  {
   "cell_type": "code",
   "execution_count": 7,
   "metadata": {},
   "outputs": [
    {
     "name": "stdout",
     "output_type": "stream",
     "text": [
      "(2, ['ab', 'ba'])\n",
      "(3, ['abc', 'bcd', 'cda'])\n",
      "(3, ['abc', 'bca', 'abc'])\n"
     ]
    }
   ],
   "source": [
    "# https://www.geeksforgeeks.org/count-of-substrings-of-length-k-with-exactly-k-distinct-characters/\n",
    "\n",
    "def get_substrings_with_exact_k_distinct_chars_v0(x: str, k: int):\n",
    "    count = 0\n",
    "    w_start = 0\n",
    "    w_end = k\n",
    "    init_list= []\n",
    "\n",
    "    while w_end <= len(x):\n",
    "        if len(set(x[w_start:w_end])) == k:\n",
    "            count += 1\n",
    "            init_list.append(x[w_start:w_end])\n",
    "        w_start += 1\n",
    "        w_end += 1\n",
    "\n",
    "    return count, init_list\n",
    "\n",
    "print(get_substrings_with_exact_k_distinct_chars_v0(\"aabaa\", 2))\n",
    "print(get_substrings_with_exact_k_distinct_chars_v0(\"aabcdaab\", 3))\n",
    "print(get_substrings_with_exact_k_distinct_chars_v0(\"aabcaabc\", 3))"
   ]
  },
  {
   "cell_type": "code",
   "execution_count": 17,
   "metadata": {},
   "outputs": [
    {
     "name": "stdout",
     "output_type": "stream",
     "text": [
      "(8, ['aab', 'aaba', 'aabaa', 'ab', 'aba', 'abaa', 'ba', 'baa'])\n"
     ]
    }
   ],
   "source": [
    "def get_substrings_with_exact_k_distinct_chars_v0(x: str, k: int):\n",
    "    # get the all substring with exactly k distinct characters.\n",
    "    init_list = [x[i:j] for i in range(len(x)) for j in range(i+1, len(x)+1) if len(set(x[i:j])) == k]\n",
    "    return len(init_list), init_list\n",
    "\n",
    "print(get_substrings_with_exact_k_distinct_chars_v0(\"aabaa\", 2))"
   ]
  },
  {
   "cell_type": "code",
   "execution_count": 28,
   "metadata": {},
   "outputs": [
    {
     "name": "stdout",
     "output_type": "stream",
     "text": [
      "Count of substrings with at most 2 distinct characters: 10\n",
      "Count of substrings with at most 2 distinct characters: 15\n",
      "Count of substrings with at most 3 distinct characters: 15\n",
      "8\n",
      "5\n"
     ]
    }
   ],
   "source": [
    "def get_substrings_with_atmost_k_distinct_chars(s, k):\n",
    "    n = len(s)\n",
    "    count = 0\n",
    "    char_count = {}  # Hash map to store character frequencies.\n",
    "    left, right = 0, 0  # Initialize two pointers for the sliding window.\n",
    "\n",
    "    while right < n:\n",
    "        # Expand the window to the right.\n",
    "        char = s[right]\n",
    "        char_count[char] = char_count.get(char, 0) + 1\n",
    "\n",
    "        # Check if the number of distinct characters exceeds k.\n",
    "        while len(char_count) > k:\n",
    "            # Shrink the window from the left.\n",
    "            left_char = s[left]\n",
    "            char_count[left_char] -= 1\n",
    "            if char_count[left_char] == 0:\n",
    "                del char_count[left_char]\n",
    "            left += 1\n",
    "\n",
    "        # Count substrings ending at the current right pointer.\n",
    "        count += right - left + 1\n",
    "\n",
    "        right += 1\n",
    "\n",
    "    return count\n",
    "\n",
    "# Example usage:\n",
    "s = \"acbaa\"\n",
    "k = 2\n",
    "result = get_substrings_with_atmost_k_distinct_chars(s, k)\n",
    "print(\"Count of substrings with at most\", k, \"distinct characters:\", result)\n",
    "\n",
    "\n",
    "# Example usage:\n",
    "s = \"aabaa\"\n",
    "k = 2\n",
    "result = get_substrings_with_atmost_k_distinct_chars(s, k)\n",
    "print(\"Count of substrings with at most\", k, \"distinct characters:\", result)\n",
    "\n",
    "# Example usage:\n",
    "s = \"aabaa\"\n",
    "k = 3\n",
    "result = get_substrings_with_atmost_k_distinct_chars(s, k)\n",
    "print(\"Count of substrings with at most\", k, \"distinct characters:\", result)\n",
    "\n",
    "\n",
    "def get_substrings_with_exact_k_distinct_chars_v1(s, k):\n",
    "    return get_substrings_with_atmost_k_distinct_chars(s, k) - get_substrings_with_atmost_k_distinct_chars(s, k - 1)\n",
    "\n",
    "print(get_substrings_with_exact_k_distinct_chars_v1(\"aabaa\", 2))\n",
    "print(get_substrings_with_exact_k_distinct_chars_v1(\"acbaa\", 3))\n",
    "\n"
   ]
  },
  {
   "cell_type": "code",
   "execution_count": 31,
   "metadata": {},
   "outputs": [
    {
     "name": "stdout",
     "output_type": "stream",
     "text": [
      "True\n",
      "True\n",
      "False\n"
     ]
    }
   ],
   "source": [
    "# https://www.geeksforgeeks.org/find-if-a-string-is-interleaved-of-two-other-strings-dp-33/\n",
    "\n",
    "def is_interleave(A, B, C):\n",
    "    m, n = len(A), len(B)\n",
    "\n",
    "    # If the lengths of A and B don't add up to the length of C, it's impossible.\n",
    "    if m + n != len(C):\n",
    "        return False\n",
    "\n",
    "    # Create a 2D DP table to store the results of subproblems.\n",
    "    dp = [[False] * (n + 1) for _ in range(m + 1)]\n",
    "\n",
    "    # Initialize the DP table.\n",
    "    dp[0][0] = True\n",
    "\n",
    "    # Fill in the first row of the DP table.\n",
    "    for i in range(1, m + 1):\n",
    "        dp[i][0] = dp[i - 1][0] and A[i - 1] == C[i - 1]\n",
    "\n",
    "    # Fill in the first column of the DP table.\n",
    "    for j in range(1, n + 1):\n",
    "        dp[0][j] = dp[0][j - 1] and B[j - 1] == C[j - 1]\n",
    "\n",
    "    # Fill in the rest of the DP table.\n",
    "    for i in range(1, m + 1):\n",
    "        for j in range(1, n + 1):\n",
    "            # Check if the current character in C matches A or B.\n",
    "            if (A[i - 1] == C[i + j - 1] and dp[i - 1][j]) or (B[j - 1] == C[i + j - 1] and dp[i][j - 1]):\n",
    "                dp[i][j] = True\n",
    "\n",
    "    # The result is stored in the bottom-right cell of the DP table.\n",
    "    return dp[m][n]\n",
    "\n",
    "# Example usage:\n",
    "A = \"abc\"\n",
    "B = \"def\"\n",
    "C = \"adbcef\"\n",
    "result = is_interleave(A, B, C)\n",
    "print(result)  # Output: True\n",
    "\n",
    "# Example usage:\n",
    "A = \"xxy\"\n",
    "B = \"xxz\"\n",
    "C = \"xxyxxz\"\n",
    "result = is_interleave(A, B, C)\n",
    "print(result)  # Output: True\n",
    "\n",
    "# Example usage:\n",
    "A = \"x\"\n",
    "B = \"yx\"\n",
    "C = \"xxy\"\n",
    "result = is_interleave(A, B, C)\n",
    "print(result)  # Output: False\n"
   ]
  }
 ],
 "metadata": {
  "kernelspec": {
   "display_name": "Python 3",
   "language": "python",
   "name": "python3"
  },
  "language_info": {
   "codemirror_mode": {
    "name": "ipython",
    "version": 3
   },
   "file_extension": ".py",
   "mimetype": "text/x-python",
   "name": "python",
   "nbconvert_exporter": "python",
   "pygments_lexer": "ipython3",
   "version": "3.10.12"
  },
  "orig_nbformat": 4
 },
 "nbformat": 4,
 "nbformat_minor": 2
}
