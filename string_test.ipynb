{
 "cells": [
  {
   "cell_type": "code",
   "execution_count": 2,
   "metadata": {},
   "outputs": [],
   "source": [
    "from typing import List, Tuple\n",
    "import itertools\n",
    "import collections\n"
   ]
  },
  {
   "cell_type": "code",
   "execution_count": 3,
   "metadata": {},
   "outputs": [
    {
     "name": "stdout",
     "output_type": "stream",
     "text": [
      "[1]\n"
     ]
    }
   ],
   "source": [
    "# https://www.geeksforgeeks.org/python-word-location-in-string/\n",
    "\n",
    "def get_index(x:str, word:str) -> int:\n",
    "    init_list = x.split(' ')\n",
    "    candiates = [i for i in range(len(init_list)) if init_list[i] == word]\n",
    "    return candiates\n",
    "\n",
    "\n",
    "print(get_index(\"hello world\", \"world\"))"
   ]
  },
  {
   "cell_type": "code",
   "execution_count": 4,
   "metadata": {},
   "outputs": [
    {
     "name": "stdout",
     "output_type": "stream",
     "text": [
      "bbcc\n",
      "cc\n",
      "\n",
      "[('a', 3), ('b', 2), ('c', 2)]\n",
      "dict_items([('a', 3), ('b', 2), ('c', 2)])\n",
      "[('a', 3), ('b', 2), ('c', 2)]\n"
     ]
    }
   ],
   "source": [
    "# https://www.geeksforgeeks.org/python-consecutive-characters-frequency/\n",
    "\n",
    "\n",
    "def get_freq_v0(x:str) -> List:\n",
    "    init_list = []\n",
    "\n",
    "    while len(x) > 0:\n",
    "        i= 0\n",
    "        while len(set(x[0:i+1]))==1 and i < len(x):\n",
    "            i += 1\n",
    "        init_list.append((x[0], i))\n",
    "        x = x[i:]\n",
    "        print(x)\n",
    "\n",
    "\n",
    "    return init_list\n",
    "\n",
    "print(get_freq_v0(\"aaabbcc\"))\n",
    "\n",
    "def get_freq_v1(x:str) -> List:\n",
    "    return collections.Counter(x).items()\n",
    "\n",
    "\n",
    "print(get_freq_v1(\"aaabbcc\"))\n",
    "\n",
    "\n",
    "def get_freq_v2(x:str) -> List:\n",
    "    return [(k, len(list(g))) for k, g in itertools.groupby(x)]\n",
    "\n",
    "\n",
    "print(get_freq_v2(\"aaabbcc\"))"
   ]
  },
  {
   "cell_type": "code",
   "execution_count": 5,
   "metadata": {},
   "outputs": [
    {
     "name": "stdout",
     "output_type": "stream",
     "text": [
      "('eksforGeeksGe', 'ksGeeksforGee')\n"
     ]
    }
   ],
   "source": [
    "# https://www.geeksforgeeks.org/string-slicing-python-rotate-string/\n",
    "\n",
    "def get_rotated_string(x:str, n:int) -> Tuple[str, str]:\n",
    "    right_rotatation = x[n:] + x [:n]\n",
    "    left_rotatation = x[-n:] + x[:-n]\n",
    "    return right_rotatation, left_rotatation\n",
    "\n",
    "\n",
    "print(get_rotated_string(\"GeeksforGeeks\", 2))"
   ]
  },
  {
   "cell_type": "code",
   "execution_count": 6,
   "metadata": {},
   "outputs": [
    {
     "name": "stdout",
     "output_type": "stream",
     "text": [
      "the word before removal: GEEGEEKSKS\n",
      " the word after removal: GEEKS\n",
      "True\n"
     ]
    },
    {
     "data": {
      "text/plain": [
       "3"
      ]
     },
     "execution_count": 6,
     "metadata": {},
     "output_type": "execute_result"
    }
   ],
   "source": [
    "# https://www.geeksforgeeks.org/string-slicing-python-check-string-can-become-empty-recursive-deletion/\n",
    "\n",
    "def is_removable(x:str, sub_str:str) -> bool:\n",
    "\n",
    "    while len(x) > len(sub_str):\n",
    "        print(f\"the word before removal: {x}\")\n",
    "\n",
    "        if x.index(sub_str) == -1:\n",
    "            return False\n",
    "        else:\n",
    "            x = x[:x.index(sub_str)] + x[x.index(sub_str)+len(sub_str):]\n",
    "            print(f\" the word after removal: {x}\")\n",
    "            \n",
    "    return True\n",
    "    \n",
    "print(is_removable(\"GEEGEEKSKS\", \"GEEKS\"))\n",
    "\n",
    "\"GEEGEEKSKS\".index(\"GEEKS\")\n"
   ]
  },
  {
   "cell_type": "code",
   "execution_count": 7,
   "metadata": {},
   "outputs": [
    {
     "name": "stdout",
     "output_type": "stream",
     "text": [
      "1\n",
      "2\n",
      "-1\n"
     ]
    }
   ],
   "source": [
    "# https://www.geeksforgeeks.org/python-program-to-find-minimum-number-of-rotations-to-obtain-actual-string/\n",
    "\n",
    "def get_num_rotations(x:str, y:str) -> int:\n",
    "    x_set = set(x)\n",
    "    y_set = set(y)\n",
    "\n",
    "    if len(x_set) != len(y_set) and not all(x.count(i) == y.count(i) for i in x_set):\n",
    "        return -1\n",
    "    else:\n",
    "        n=0\n",
    "        while n<=len(x):\n",
    "            x_right_rotation, x_left_rotation = get_rotated_string(x, n)\n",
    "            if x_right_rotation == y or x_left_rotation == y:\n",
    "                return n\n",
    "            \n",
    "            n += 1\n",
    "        return -1\n",
    "\n",
    "print(get_num_rotations(\"eeksg\", \"geeks\"))\n",
    "print(get_num_rotations(\"geeks\", \"eksge\"))\n",
    "print(get_num_rotations(\"geeks\", \"geekes\"))"
   ]
  },
  {
   "cell_type": "code",
   "execution_count": 8,
   "metadata": {},
   "outputs": [
    {
     "name": "stdout",
     "output_type": "stream",
     "text": [
      "{'geeks': 2, 'for': 1}\n"
     ]
    }
   ],
   "source": [
    "# https://www.geeksforgeeks.org/python-words-frequency-in-string-shorthands/?ref=leftbar-rightbar\n",
    "\n",
    "def get_freq_words(x:str):\n",
    "    freq_dict = {item:x.count(item) for item in set(x.split(\" \"))}\n",
    "    return freq_dict\n",
    "\n",
    "\n",
    "print(get_freq_words(\"geeks for geeks\"))\n"
   ]
  },
  {
   "cell_type": "code",
   "execution_count": 9,
   "metadata": {},
   "outputs": [
    {
     "name": "stdout",
     "output_type": "stream",
     "text": [
      "['geeksforgeeksss', 'besst', 'geeks', 'is', 'for']\n"
     ]
    }
   ],
   "source": [
    "# https://www.geeksforgeeks.org/python-sort-string-list-by-k-character-frequency/\n",
    "\n",
    "def sort_char_frq(x:List[str], k:str) -> List[str]:\n",
    "    return sorted(x, key=lambda x: (x.count(k), len(x)), reverse=True)\n",
    "\n",
    "print(sort_char_frq([\"geeksforgeeksss\", \"is\", \"besst\", \"for\", \"geeks\"], \"s\"))\n"
   ]
  },
  {
   "cell_type": "code",
   "execution_count": 10,
   "metadata": {},
   "outputs": [
    {
     "name": "stdout",
     "output_type": "stream",
     "text": [
      "1s2s3s4s5\n"
     ]
    }
   ],
   "source": [
    "# https://www.geeksforgeeks.org/python-avoid-last-occurrence-of-delimitter/\n",
    "\n",
    "def avoid_delimitter(x:List[int], delimitter:str) -> str:\n",
    "    x_string = [str(i) for i in x]\n",
    "    return delimitter.join(x_string)\n",
    "\n",
    "print(avoid_delimitter([1,2,3,4,5], \"s\"))"
   ]
  },
  {
   "cell_type": "code",
   "execution_count": 11,
   "metadata": {},
   "outputs": [
    {
     "name": "stdout",
     "output_type": "stream",
     "text": [
      "(2, -3, 'e')\n",
      "(2, -1, 's')\n",
      "(3, 13, 'e')\n",
      "(3, 13, 's')\n"
     ]
    }
   ],
   "source": [
    "def get_subindex_string_v0(x:List[str], ind:int) -> int:\n",
    "    len_x = [ len(item) for item in x ]\n",
    "    cum_index = list(itertools.accumulate(len_x))\n",
    "\n",
    "    updated_index = [ind- cum_index[i] for i in range(len(x))]\n",
    "\n",
    "    counter=0\n",
    "    while updated_index[0] > 0:\n",
    "        updated_index.pop(0)\n",
    "        counter += 1\n",
    "\n",
    "    return  counter, updated_index[0], x[counter][updated_index[0]]\n",
    "\n",
    "print(get_subindex_string_v0([\"geeks\", \"for\", \"geeks\"], 10))\n",
    "print(get_subindex_string_v0([\"geeks\", \"for\", \"geeks\"], 12))\n",
    "\n",
    "\n",
    "def get_subindex_string_v1(x:List[str], ind:int) -> int:\n",
    "    counter = 0\n",
    "    i=0\n",
    "    while ind > counter:\n",
    "        counter += len(x[i])\n",
    "        i += 1\n",
    "    return i, counter, x[i-1][ind-counter]\n",
    "\n",
    "print(get_subindex_string_v1([\"geeks\", \"for\", \"geeks\"], 10))\n",
    "print(get_subindex_string_v1([\"geeks\", \"for\", \"geeks\"], 12))\n"
   ]
  },
  {
   "cell_type": "code",
   "execution_count": 12,
   "metadata": {},
   "outputs": [
    {
     "name": "stdout",
     "output_type": "stream",
     "text": [
      "['gfg', ' is', ' (best', ' for) kdf', ' geeks']\n"
     ]
    }
   ],
   "source": [
    "def get_splitted_string(x:str, split_char:str, open_char:str, close_char:str):\n",
    "    x_split = x.split(split_char)\n",
    "    x_splitted = [item  if item.find(open_char) == -1 or item.find(close_char) == -1 else x_split[i]+x_split[i+1] for (i, item) in enumerate(x_split)]\n",
    "    return x_splitted\n",
    "\n",
    "print(get_splitted_string(\"gfg, is, (best, for) kdf, geeks\", \",\", \"(\", \")\"))"
   ]
  },
  {
   "cell_type": "code",
   "execution_count": 13,
   "metadata": {},
   "outputs": [
    {
     "name": "stdout",
     "output_type": "stream",
     "text": [
      "['gfg, ', 's, (b', 'st, f', 'r) kdf, g']\n"
     ]
    }
   ],
   "source": [
    "# https://www.geeksforgeeks.org/python-split-string-on-vowels/\n",
    "\n",
    "def get_splitted_wovels(x:str) -> List[str]:\n",
    "    splitted_index = [-1]+[i for (i, item) in enumerate(x) if item in \"aeiou\"]\n",
    "    splitted_strings = [x[splitted_index[i]+1: splitted_index[i+1]] for i in range(len(splitted_index)-1) if splitted_index[i+1]-splitted_index[i]>1]\n",
    "    return splitted_strings\n",
    "\n",
    "print(get_splitted_wovels(\"egfg, is, (best, for) kdf, geeks\"))"
   ]
  },
  {
   "cell_type": "code",
   "execution_count": 14,
   "metadata": {},
   "outputs": [
    {
     "name": "stdout",
     "output_type": "stream",
     "text": [
      "gfg gfg gfg is best gfg gfg students\n"
     ]
    }
   ],
   "source": [
    "def get_replaed(x:str, old_substring:List[str], new_substring:str) -> str:\n",
    "    x_splitted = x.split(\" \")\n",
    "    updated_list = [item if item not in old_substring else new_substring for item in x_splitted]\n",
    "    return \" \".join(updated_list)\n",
    "\n",
    "\n",
    "print(get_replaed(\"geeks for geeks is best for cs students\", [\"geeks\", \"for\", \"cs\"], \"gfg\"))"
   ]
  },
  {
   "cell_type": "code",
   "execution_count": 15,
   "metadata": {},
   "outputs": [
    {
     "name": "stdout",
     "output_type": "stream",
     "text": [
      "gfg is gfg is best is gfg students\n"
     ]
    }
   ],
   "source": [
    "# https://www.geeksforgeeks.org/python-replace-different-characters-in-string-at-once/\n",
    "\n",
    "def get_replaced(x:str, sub_strings:dict) -> str:\n",
    "    x_splitted = x.split(\" \")\n",
    "    updated_list = [item if item not in sub_strings.keys() else sub_strings.get(item) for item in x_splitted]\n",
    "    return \" \".join(updated_list)\n",
    "\n",
    "print(get_replaced(\"geeks for geeks is best for cs students\", {\"geeks\": \"gfg\", \"for\": \"is\", \"cs\": \"gfg\"}))"
   ]
  },
  {
   "cell_type": "code",
   "execution_count": 108,
   "metadata": {},
   "outputs": [
    {
     "name": "stdout",
     "output_type": "stream",
     "text": [
      "['gfg', 'is', 'best']\n"
     ]
    }
   ],
   "source": [
    "# https://www.geeksforgeeks.org/python-ways-to-remove-multiple-empty-spaces-from-string-list/?ref=leftbar-rightbar\n",
    "\n",
    "def get_removed_spaces(x:List[str]) -> List[str]:\n",
    "    return [item for item in x if not set(item.split(\" \")) == {''}]\n",
    "\n",
    "print(get_removed_spaces(['gfg', ' ', ' ', 'is', '         ', 'best']))"
   ]
  },
  {
   "cell_type": "code",
   "execution_count": 16,
   "metadata": {},
   "outputs": [
    {
     "name": "stdout",
     "output_type": "stream",
     "text": [
      "1 geek\n",
      "2 geeks\n",
      "3 geeksf\n",
      "4 geeksfo\n",
      "5 geeksfor\n",
      "6 geeksforf\n",
      "7 geeksforfr\n",
      "8 geeksforfre\n",
      "9 geeksforfree\n",
      "geeksforfree\n"
     ]
    }
   ],
   "source": [
    "# https://www.geeksforgeeks.org/python-remove-k-length-duplicates-from-string/\n",
    "\n",
    "def get_removed_k_repeated_substrings(x:str, k:int) -> str:\n",
    "    filtered_string= x[:k]\n",
    "\n",
    "    for i in range(1, len(x)-k+1):\n",
    "        if x[i:i+k] not in filtered_string:\n",
    "            filtered_string += x[i+k-1]\n",
    "            print(i, filtered_string)\n",
    "\n",
    "    return filtered_string\n",
    "\n",
    "print(get_removed_k_repeated_substrings(\"geeksforfreeksfo\", 3))"
   ]
  },
  {
   "cell_type": "code",
   "execution_count": 17,
   "metadata": {},
   "outputs": [
    {
     "name": "stdout",
     "output_type": "stream",
     "text": [
      "['o', 'r', 's', 'g', 'k']\n"
     ]
    }
   ],
   "source": [
    "def get_duplicates(x:str, k:int) -> str:\n",
    "    init_list= [item for item in list(set(x))]\n",
    "    return [item for item in init_list if x.count(item) < k]\n",
    "\n",
    "print(get_duplicates(\"geeksforfreeksfo\", 3))\n"
   ]
  },
  {
   "cell_type": "code",
   "execution_count": 22,
   "metadata": {},
   "outputs": [
    {
     "name": "stdout",
     "output_type": "stream",
     "text": [
      "Gfg is best . it also has Classes now. They help understand better\n"
     ]
    }
   ],
   "source": [
    "# https://www.geeksforgeeks.org/python-replace-duplicate-occurrence-in-string/?ref=leftbar-rightbar\n",
    "\n",
    "def get_replaced_2nd_duplicates(x:str, replaced_string: dict) -> str:\n",
    "    x_list = x.split(\" \")\n",
    "    temp_list= []\n",
    "    init_list = []\n",
    "\n",
    "    for item in x_list:\n",
    "        if item in temp_list:\n",
    "            init_list.append(replaced_string.get(item))\n",
    "        else:\n",
    "            temp_list.append(item)\n",
    "            init_list.append(item)\n",
    "\n",
    "    return \" \".join(init_list)\n",
    "\n",
    "print(get_replaced_2nd_duplicates(\"Gfg is best . Gfg also has Classes now. Classes help understand better\", {\"Gfg\": \"it\", \"Classes\": \"They\"}))"
   ]
  },
  {
   "cell_type": "markdown",
   "metadata": {},
   "source": [
    "### Substrings"
   ]
  },
  {
   "cell_type": "code",
   "execution_count": 39,
   "metadata": {},
   "outputs": [
    {
     "name": "stdout",
     "output_type": "stream",
     "text": [
      "3\n",
      "3\n"
     ]
    }
   ],
   "source": [
    "def get_longest_repaeation_v0(x:str, y:str):\n",
    "    assert y in x, \"y is not substring of x\"\n",
    "\n",
    "    x_splitted = x.split(y)\n",
    "    init_list = [0 if item == '' else 1 for item in x_splitted]\n",
    "    return max([len(list(g)) for x, g in itertools.groupby(init_list) if x==0])\n",
    "\n",
    "print(get_longest_repaeation_v0(\"geeksgeeks are geeks for all geeksgeeksgeeks\", \"geeks\"))\n",
    "\n",
    "def get_longest_repaeation_v1(x:str, y:str):\n",
    "    assert y in x, \"y is not substring of x\"\n",
    "\n",
    "    x_splitted = x.split(y)\n",
    "    init_list = \"\".join([\"0\" if item == '' else \"1\" for item in x_splitted])\n",
    "    return len(max(init_list.split(\"1\"), key=len))\n",
    "\n",
    "print(get_longest_repaeation_v1(\"geeksgeeks are geeks for all geeksgeeksgeeks\", \"geeks\"))\n"
   ]
  },
  {
   "cell_type": "code",
   "execution_count": 46,
   "metadata": {},
   "outputs": [
    {
     "name": "stdout",
     "output_type": "stream",
     "text": [
      "(1, Counter({'e': 6, 'g': 3, 'k': 3, 's': 3, 'f': 1, 'o': 1, 'r': 1}), Counter({'e': 2, 's': 2, 'g': 1, 'k': 1}), {'g': 3, 'e': 3, 'k': 3, 's': 1})\n"
     ]
    }
   ],
   "source": [
    "# https://www.geeksforgeeks.org/python-possible-substring-count-from-string/\n",
    "\n",
    "def get_num_substring_count(x:str, y:str):\n",
    "    if not set(y).issubset(set(x)):\n",
    "        return -1\n",
    "    else:\n",
    "        x_count = collections.Counter(x)\n",
    "        y_count = collections.Counter(y)\n",
    "\n",
    "        new_count = {k: int(x_count[k]/y_count[k]) for k in y_count.keys()}\n",
    "\n",
    "    return min(new_count.values()), x_count, y_count, new_count\n",
    "\n",
    "print(get_num_substring_count(\"geksefokesgergeekss\", \"geeks\"))\n"
   ]
  },
  {
   "cell_type": "code",
   "execution_count": 66,
   "metadata": {},
   "outputs": [
    {
     "name": "stdout",
     "output_type": "stream",
     "text": [
      "('c', -1)\n"
     ]
    }
   ],
   "source": [
    "def get_longest_substring(x:str, y:str) -> Tuple[str, int]:\n",
    "    if len(y) ==1 and y in x:\n",
    "        return max([(k, len(list(g))) for k, g in itertools.groupby(x)], key=lambda x: x[1])\n",
    "    else:\n",
    "        return (y, -1)\n",
    "    \n",
    "print(get_longest_substring(\"abbddf\", \"c\"))"
   ]
  },
  {
   "cell_type": "code",
   "execution_count": null,
   "metadata": {},
   "outputs": [],
   "source": []
  }
 ],
 "metadata": {
  "kernelspec": {
   "display_name": "Python 3",
   "language": "python",
   "name": "python3"
  },
  "language_info": {
   "codemirror_mode": {
    "name": "ipython",
    "version": 3
   },
   "file_extension": ".py",
   "mimetype": "text/x-python",
   "name": "python",
   "nbconvert_exporter": "python",
   "pygments_lexer": "ipython3",
   "version": "3.6.9"
  },
  "orig_nbformat": 4
 },
 "nbformat": 4,
 "nbformat_minor": 2
}
